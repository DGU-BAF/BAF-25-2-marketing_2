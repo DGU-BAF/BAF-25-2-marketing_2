{
 "cells": [
  {
   "cell_type": "markdown",
   "id": "c5c83259",
   "metadata": {},
   "source": [
    "# KOFIC 일별 박스오피스  "
   ]
  },
  {
   "cell_type": "markdown",
   "id": "c898eb2c",
   "metadata": {},
   "source": [
    "https://www.kobis.or.kr/kobis/business/stat/boxs/findDailyBoxOfficeList.do"
   ]
  },
  {
   "cell_type": "markdown",
   "id": "34d9538e",
   "metadata": {},
   "source": [
    "해당 사이트에 접속하여 엑셀 데이터를 다운받는다"
   ]
  },
  {
   "cell_type": "markdown",
   "id": "c135912b",
   "metadata": {},
   "source": [
    "# 1. 라이브러리"
   ]
  },
  {
   "cell_type": "code",
   "execution_count": 78,
   "id": "2dee5d78",
   "metadata": {},
   "outputs": [],
   "source": [
    "import time\n",
    "import os\n",
    "from datetime import datetime, timedelta\n",
    "\n",
    "from selenium import webdriver\n",
    "from selenium.webdriver.chrome.service import Service\n",
    "from selenium.webdriver.common.by import By\n",
    "from selenium.webdriver.support.ui import WebDriverWait\n",
    "from selenium.webdriver.support import expected_conditions as EC\n",
    "from webdriver_manager.chrome import ChromeDriverManager\n",
    "from selenium.common.exceptions import StaleElementReferenceException\n",
    "from glob import glob"
   ]
  },
  {
   "cell_type": "markdown",
   "id": "65fb8ca1",
   "metadata": {},
   "source": [
    "# 2. 동적 웹크롤링을 통한 엑셀 데이터 다운로드"
   ]
  },
  {
   "cell_type": "markdown",
   "id": "a7d4486d",
   "metadata": {},
   "source": [
    "## 추출 범위 지정"
   ]
  },
  {
   "cell_type": "markdown",
   "id": "279a0ed9",
   "metadata": {},
   "source": [
    "다운받다 도중에 오류로 인해 중지되면 해당 날짜부터 다시 진행할 수 있도록 시작 기준 날짜 지정"
   ]
  },
  {
   "cell_type": "code",
   "execution_count": null,
   "id": "ead78186",
   "metadata": {},
   "outputs": [],
   "source": [
    "# 1. 크롤링 시작 기준 날짜\n",
    "## 날짜는 일주일씩 전주로 변경되어 탐색이 이루어진다\n",
    "START_DATE = \"2025-09-06\"\n",
    "\n",
    "# 2. 몇 주간의 데이터를 다운로드할지 설정\n",
    "## KOFIC의 날짜 기간은 최대 일주일이기 때문에\n",
    "NUM_WEEKS = 52*30 # 약 30년치\n",
    "\n",
    "# 3. KOBIS 일별 박스오피스 URL\n",
    "URL = \"https://www.kobis.or.kr/kobis/business/stat/boxs/findDailyBoxOfficeList.do\""
   ]
  },
  {
   "cell_type": "markdown",
   "id": "027b2969",
   "metadata": {},
   "source": [
    "## 웹크롤링 함수 제작"
   ]
  },
  {
   "cell_type": "markdown",
   "id": "a5c0cefe",
   "metadata": {},
   "source": [
    "by Gemini"
   ]
  },
  {
   "cell_type": "code",
   "execution_count": null,
   "id": "412136f0",
   "metadata": {},
   "outputs": [],
   "source": [
    "def download_boxoffice_data():\n",
    "    # 웹 드라이버 설정\n",
    "    DOWNLOAD_FOLDER_PATH = \"D:\\\\공모전\\\\25-2 비어플\\\\영화관람객크롤링\\\\엑셀데이터\"  #파일 다운로드 경로 설정\n",
    "    # 다운로드 대기 최대 시간(초)\n",
    "    DOWNLOAD_TIMEOUT = 120 #사이트 로딩이 오래 걸릴때가 있다\n",
    "\n",
    "    # 크롬 브라우저 옵션\n",
    "    chrome_options = webdriver.ChromeOptions()\n",
    "    prefs = {\"download.default_directory\": DOWNLOAD_FOLDER_PATH}\n",
    "    chrome_options.add_experimental_option(\"prefs\", prefs)\n",
    "\n",
    "    # GoogleBot으로 설정하여 혹시나 있을 ip벤을 막는다\n",
    "    googlebot_user_agent = \"Mozilla/5.0 (compatible; Googlebot/2.1; +http://www.google.com/bot.html)\"\n",
    "    chrome_options.add_argument(f\"user-agent={googlebot_user_agent}\")\n",
    "\n",
    "    driver = webdriver.Chrome(service=Service(ChromeDriverManager().install()), options=chrome_options)\n",
    "    driver.get(URL)\n",
    "    print(f\"페이지 접속 완료: {URL}\")\n",
    "    print(f\"파일 다운로드 경로: {DOWNLOAD_FOLDER_PATH}\")\n",
    "\n",
    "    # current_date는 조회 종료일을 의미\n",
    "    ## 조회 시작일을 지정하는 것보다 종료일을 지정하는 것이 오류가 안난다\n",
    "    current_date = datetime.strptime(START_DATE, \"%Y-%m-%d\")\n",
    "\n",
    "    try:\n",
    "        for i in range(NUM_WEEKS):\n",
    "            # 1. 조회 기간 계산\n",
    "            # current_date를 조회 종료일로 설정\n",
    "            end_date = current_date\n",
    "            # 조회 시작일을 종료일로부터 6일 전으로 설정 (일주일)\n",
    "            start_date = end_date - timedelta(days=6)\n",
    "\n",
    "            # 날짜를 문자열로 변환\n",
    "            end_date_str = end_date.strftime(\"%Y-%m-%d\")\n",
    "            start_date_str = start_date.strftime(\"%Y-%m-%d\")\n",
    "            \n",
    "            print(\"-\" * 30)\n",
    "            print(f\"({i+1}/{NUM_WEEKS}) 작업 시작: {start_date_str} ~ {end_date_str}\")\n",
    "\n",
    "            # 2. #sSearchTo 태그에 조회 종료일 값 입력\n",
    "            date_to_input = WebDriverWait(driver, 10).until(\n",
    "                EC.presence_of_element_located((By.CSS_SELECTOR, \"#sSearchTo\"))\n",
    "            )\n",
    "            driver.execute_script(\"arguments[0].value = arguments[1];\", date_to_input, end_date_str)\n",
    "            print(f\"조회 종료일 입력: {end_date_str}\")\n",
    "\n",
    "            # 3. #sSearchFrom 태그에 조회 시작일 값 입력\n",
    "            date_from_input = WebDriverWait(driver, 10).until(\n",
    "                EC.presence_of_element_located((By.CSS_SELECTOR, \"#sSearchFrom\"))\n",
    "            )\n",
    "            driver.execute_script(\"arguments[0].value = arguments[1];\", date_from_input, start_date_str)\n",
    "            print(f\"조회 시작일 입력: {start_date_str}\")\n",
    "            \n",
    "            # 4. '검색' 버튼 클릭\n",
    "            search_button = driver.find_element(By.CSS_SELECTOR, \"#searchForm > div > div.wrap_btn > button\")\n",
    "            search_button.click()\n",
    "            print(\"검색 버튼 클릭 완료\")\n",
    "\n",
    "            # '엑셀' 버튼을 기다리는 동안 StaleElementReferenceException이 발생하면\n",
    "            # 오류를 내지 않고 목표 요소가 나타날 때까지 다시 시도\n",
    "            wait = WebDriverWait(driver, 10, ignored_exceptions=[StaleElementReferenceException])\n",
    "            download_button = wait.until(\n",
    "                EC.element_to_be_clickable((By.XPATH, \"//a[text()='엑셀']\"))\n",
    "            )\n",
    "\n",
    "\n",
    "            \n",
    "            # 다운로드 전, 기존에 남아있을 수 있는 파일을 먼저 정리\n",
    "            ## 모든 파일은 데이터를 다운받는 날짜 (이 경우는 9월 7일)로 저장된다\n",
    "            ### 아래 8번에 있는 파일이름 변경 로직과 연계한다\n",
    "            default_filename = \"KOBIS_일별_박스오피스_2025-09-07.xls\"\n",
    "            target_filepath = os.path.join(DOWNLOAD_FOLDER_PATH, default_filename)\n",
    "            if os.path.exists(target_filepath):\n",
    "                os.remove(target_filepath)\n",
    "\n",
    "            # 5. '엑셀' 버튼 클릭\n",
    "            download_button = WebDriverWait(driver, 10).until(\n",
    "                EC.element_to_be_clickable((By.XPATH, \"//a[text()='엑셀']\"))\n",
    "            )\n",
    "            download_button.click()\n",
    "            print(\"엑셀 버튼 클릭!\")\n",
    "\n",
    "            # 6. 다운로드 확인 알림창(Alert) 처리\n",
    "            WebDriverWait(driver, 10).until(EC.alert_is_present())\n",
    "            alert = driver.switch_to.alert\n",
    "            alert.accept()\n",
    "            print(\"다운로드 확인 창 '확인' 클릭 완료. 파일 다운로드를 시작합니다.\")\n",
    "\n",
    "            # 7. 다운로드가 완료될 때까지 대기\n",
    "            start_time = time.time()\n",
    "            while True:\n",
    "                # .crdownload 파일이 없으면 다운로드가 끝난 것으로 간주\n",
    "                if not glob(os.path.join(DOWNLOAD_FOLDER_PATH, '*.crdownload')):\n",
    "                    # 다운로드된 최종 파일이 존재하는지 한 번 더 확인\n",
    "                    if os.path.exists(target_filepath):\n",
    "                        print(\"파일 다운로드 완료.\")\n",
    "                        break\n",
    "                \n",
    "                # 최대 대기 시간을 초과하면 오류를 발생시키고 종료\n",
    "                if time.time() - start_time > DOWNLOAD_TIMEOUT:\n",
    "                    raise TimeoutError(\"파일 다운로드 시간이 너무 오래 걸립니다.\")\n",
    "                \n",
    "                # 0.5초 간격으로 반복적인 확인\n",
    "                time.sleep(0.5)\n",
    "                \n",
    "\n",
    "            # 8. 파일 이름 변경\n",
    "            ## 조회 시작일과 종료일로 이름을 변경한다\n",
    "            ### 중간에 오류가 발생하였을 시 해당 기간부터 시작할 수 있게 하기 위함이다\n",
    "\n",
    "            new_filename = f\"KOBIS_{start_date_str}_to_{end_date_str}.xls\"\n",
    "            new_filepath = os.path.join(DOWNLOAD_FOLDER_PATH, new_filename)\n",
    "            os.rename(target_filepath, new_filepath)\n",
    "            print(f\"파일 이름 변경 완료: {new_filename}\")\n",
    "\n",
    "            time.sleep(0.5) #다음 날짜 이동 전 잠시 대기\n",
    "\n",
    "            # 9. 다음 조회를 위해 날짜를 1주일 전으로 이동\n",
    "            current_date -= timedelta(days=7)\n",
    "\n",
    "    except Exception as e:\n",
    "        print(f\"오류가 발생했습니다: {e}\")\n",
    "    finally:\n",
    "        print(\"-\" * 30)\n",
    "        print(\"모든 작업이 완료되었습니다. 5초 후에 브라우저를 종료합니다.\")\n",
    "        time.sleep(5)\n",
    "        driver.quit()"
   ]
  },
  {
   "cell_type": "markdown",
   "id": "d28ea664",
   "metadata": {},
   "source": [
    "## 웹크롤링 함수 시작"
   ]
  },
  {
   "cell_type": "code",
   "execution_count": 81,
   "id": "70668dba",
   "metadata": {},
   "outputs": [
    {
     "name": "stdout",
     "output_type": "stream",
     "text": [
      "페이지 접속 완료: https://www.kobis.or.kr/kobis/business/stat/boxs/findDailyBoxOfficeList.do\n",
      "파일 다운로드 경로: D:\\공모전\\25-2 비어플\\영화관람객크롤링\\엑셀데이터\n",
      "------------------------------\n",
      "(1/1560) 작업 시작: 2003-11-02 ~ 2003-11-08\n",
      "조회 종료일 입력: 2003-11-08\n",
      "조회 시작일 입력: 2003-11-02\n",
      "검색 버튼 클릭 완료\n",
      "엑셀 버튼 클릭!\n",
      "다운로드 확인 창 '확인' 클릭 완료. 파일 다운로드를 시작합니다.\n",
      "파일 다운로드 완료.\n",
      "파일 이름 변경 완료: KOBIS_2003-11-02_to_2003-11-08.xls\n",
      "------------------------------\n",
      "(2/1560) 작업 시작: 2003-10-26 ~ 2003-11-01\n",
      "조회 종료일 입력: 2003-11-01\n",
      "조회 시작일 입력: 2003-10-26\n",
      "검색 버튼 클릭 완료\n",
      "엑셀 버튼 클릭!\n",
      "다운로드 확인 창 '확인' 클릭 완료. 파일 다운로드를 시작합니다.\n",
      "파일 다운로드 완료.\n",
      "파일 이름 변경 완료: KOBIS_2003-10-26_to_2003-11-01.xls\n",
      "------------------------------\n",
      "(3/1560) 작업 시작: 2003-10-19 ~ 2003-10-25\n",
      "조회 종료일 입력: 2003-10-25\n",
      "조회 시작일 입력: 2003-10-19\n",
      "검색 버튼 클릭 완료\n",
      "엑셀 버튼 클릭!\n",
      "다운로드 확인 창 '확인' 클릭 완료. 파일 다운로드를 시작합니다.\n",
      "파일 다운로드 완료.\n",
      "파일 이름 변경 완료: KOBIS_2003-10-19_to_2003-10-25.xls\n",
      "------------------------------\n",
      "(4/1560) 작업 시작: 2003-10-12 ~ 2003-10-18\n",
      "조회 종료일 입력: 2003-10-18\n",
      "조회 시작일 입력: 2003-10-12\n",
      "검색 버튼 클릭 완료\n",
      "엑셀 버튼 클릭!\n",
      "다운로드 확인 창 '확인' 클릭 완료. 파일 다운로드를 시작합니다.\n",
      "파일 다운로드 완료.\n",
      "파일 이름 변경 완료: KOBIS_2003-10-12_to_2003-10-18.xls\n",
      "------------------------------\n",
      "(5/1560) 작업 시작: 2003-10-05 ~ 2003-10-11\n",
      "오류가 발생했습니다: Message: invalid session id: session deleted as the browser has closed the connection\n",
      "from disconnected: not connected to DevTools\n",
      "  (Session info: chrome=139.0.7258.157)\n",
      "Stacktrace:\n",
      "\tGetHandleVerifier [0x0x93a8a3+63283]\n",
      "\tGetHandleVerifier [0x0x93a8e4+63348]\n",
      "\t(No symbol) [0x0x773e43]\n",
      "\t(No symbol) [0x0x763790]\n",
      "\t(No symbol) [0x0x781602]\n",
      "\t(No symbol) [0x0x7e7cdc]\n",
      "\t(No symbol) [0x0x801ff9]\n",
      "\t(No symbol) [0x0x7e1216]\n",
      "\t(No symbol) [0x0x7b0855]\n",
      "\t(No symbol) [0x0x7b16f4]\n",
      "\tGetHandleVerifier [0x0xbabb43+2623955]\n",
      "\tGetHandleVerifier [0x0xba6daa+2604090]\n",
      "\tGetHandleVerifier [0x0x96069a+218410]\n",
      "\tGetHandleVerifier [0x0x950ed8+154984]\n",
      "\tGetHandleVerifier [0x0x95742d+180925]\n",
      "\tGetHandleVerifier [0x0x9422b8+94536]\n",
      "\tGetHandleVerifier [0x0x942442+94930]\n",
      "\tGetHandleVerifier [0x0x92d5ea+9338]\n",
      "\tBaseThreadInitThunk [0x0x762b5d49+25]\n",
      "\tRtlInitializeExceptionChain [0x0x779dd2fb+107]\n",
      "\tRtlGetAppContainerNamedObjectPath [0x0x779dd281+561]\n",
      "\n",
      "------------------------------\n",
      "모든 작업이 완료되었습니다. 5초 후에 브라우저를 종료합니다.\n"
     ]
    }
   ],
   "source": [
    "download_boxoffice_data()"
   ]
  },
  {
   "cell_type": "code",
   "execution_count": null,
   "id": "1fba4181",
   "metadata": {},
   "outputs": [],
   "source": []
  },
  {
   "cell_type": "code",
   "execution_count": null,
   "id": "edef0981",
   "metadata": {},
   "outputs": [],
   "source": []
  }
 ],
 "metadata": {
  "kernelspec": {
   "display_name": "base",
   "language": "python",
   "name": "python3"
  },
  "language_info": {
   "codemirror_mode": {
    "name": "ipython",
    "version": 3
   },
   "file_extension": ".py",
   "mimetype": "text/x-python",
   "name": "python",
   "nbconvert_exporter": "python",
   "pygments_lexer": "ipython3",
   "version": "3.12.7"
  }
 },
 "nbformat": 4,
 "nbformat_minor": 5
}
